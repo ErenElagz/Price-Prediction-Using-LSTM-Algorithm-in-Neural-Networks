{
 "cells": [
  {
   "cell_type": "markdown",
   "metadata": {},
   "source": [
    "#### Crypto Coin Price Prediction Using Long-Short-Term-Model Algorithm in Neural Networks \n",
    " Developers\n",
    "+ 214210050 Furkan Demircan\n",
    "+ 214210056 Eray Elagoz \n",
    "---------------------------------------------------------------------------"
   ]
  },
  {
   "cell_type": "markdown",
   "metadata": {},
   "source": [
    "##### Objective\n",
    "It aims to leverage machine learning & Deep Learning techniques to develop an accurate and reliable model for predicting and forecasting Bitcoin prices. By utilizing historical data and relevant features, the model provided insights into the potential future trends of Bitcoin, assisting investors, traders, and researchers in making informed decisions in the cryptocurrency market."
   ]
  },
  {
   "cell_type": "markdown",
   "metadata": {},
   "source": [
    "##### Libraries"
   ]
  },
  {
   "cell_type": "code",
   "execution_count": null,
   "metadata": {},
   "outputs": [],
   "source": [
    "# Data manipulation and analysis\n",
    "import numpy as np # linear algebra\n",
    "import pandas as pd # data processing\n",
    "import matplotlib.pyplot as plt # data visualization\n",
    "import yfinance as yf # for coin data\n",
    "\n",
    "# Main libraries\n",
    "import datetime as dt # for date and time operations\n",
    "\n",
    "# Machine learning\n",
    "from sklearn.preprocessing import MinMaxScaler # for normalization\n",
    "from sklearn.metrics import mean_squared_error, mean_absolute_error,root_mean_squared_error, mean_absolute_percentage_error # for model evaluation\n",
    "from sklearn.metrics import f1_score, accuracy_score, classification_report, recall_score, precision_score # for model evaluation\n",
    "\n",
    "# Deep learning\n",
    "import tensorflow as tf # For neural networks\n",
    "from tensorflow.keras.models import Sequential # For building the neural network\n",
    "from tensorflow.keras.layers import Dense, Dropout, LSTM # For building neural networks"
   ]
  },
  {
   "cell_type": "markdown",
   "metadata": {},
   "source": [
    "##### Fetching the Bitcoin Price Data"
   ]
  },
  {
   "cell_type": "code",
   "execution_count": null,
   "metadata": {},
   "outputs": [],
   "source": [
    "# Fetch Bitcoin data\n",
    "df = yf.download(\"ETH-USD\", start=\"2023-01-01\", end=\"2024-11-30\")\n",
    "\n",
    "# Display the first few rows of the data\n",
    "df.head()\n",
    "\n",
    "# Plot the closing price to visualize trends\n",
    "plt.figure(figsize=(12, 6))\n",
    "plt.plot(df['Close'], label=\"Closing Price\", color='green')\n",
    "plt.title(\"Ethereum Closing Price (2024)\")\n",
    "plt.xlabel(\"Date\")\n",
    "plt.ylabel(\"Price (USD)\")\n",
    "plt.legend()\n",
    "plt.show()"
   ]
  },
  {
   "cell_type": "markdown",
   "metadata": {},
   "source": [
    "##### Data Infos"
   ]
  },
  {
   "cell_type": "code",
   "execution_count": 207,
   "metadata": {},
   "outputs": [
    {
     "name": "stdout",
     "output_type": "stream",
     "text": [
      "=============================================\n",
      "Data types of the columns in the data frame: Price      Ticker \n",
      "Adj Close  ETH-USD    float64\n",
      "Close      ETH-USD    float64\n",
      "High       ETH-USD    float64\n",
      "Low        ETH-USD    float64\n",
      "Open       ETH-USD    float64\n",
      "Volume     ETH-USD      int64\n",
      "dtype: object\n",
      "=============================================\n",
      "Shape of the data frame: (699, 6)\n",
      "=============================================\n",
      "Lenght of the data: 699\n",
      "=============================================\n",
      "Checking for missing values in the data:\n",
      " Price      Ticker \n",
      "Adj Close  ETH-USD    0\n",
      "Close      ETH-USD    0\n",
      "High       ETH-USD    0\n",
      "Low        ETH-USD    0\n",
      "Open       ETH-USD    0\n",
      "Volume     ETH-USD    0\n",
      "dtype: int64\n",
      "=============================================\n"
     ]
    },
    {
     "data": {
      "text/html": [
       "<div>\n",
       "<style scoped>\n",
       "    .dataframe tbody tr th:only-of-type {\n",
       "        vertical-align: middle;\n",
       "    }\n",
       "\n",
       "    .dataframe tbody tr th {\n",
       "        vertical-align: top;\n",
       "    }\n",
       "\n",
       "    .dataframe thead tr th {\n",
       "        text-align: left;\n",
       "    }\n",
       "</style>\n",
       "<table border=\"1\" class=\"dataframe\">\n",
       "  <thead>\n",
       "    <tr>\n",
       "      <th>Price</th>\n",
       "      <th>Adj Close</th>\n",
       "      <th>Close</th>\n",
       "      <th>High</th>\n",
       "      <th>Low</th>\n",
       "      <th>Open</th>\n",
       "      <th>Volume</th>\n",
       "    </tr>\n",
       "    <tr>\n",
       "      <th>Ticker</th>\n",
       "      <th>ETH-USD</th>\n",
       "      <th>ETH-USD</th>\n",
       "      <th>ETH-USD</th>\n",
       "      <th>ETH-USD</th>\n",
       "      <th>ETH-USD</th>\n",
       "      <th>ETH-USD</th>\n",
       "    </tr>\n",
       "  </thead>\n",
       "  <tbody>\n",
       "    <tr>\n",
       "      <th>count</th>\n",
       "      <td>699.000000</td>\n",
       "      <td>699.000000</td>\n",
       "      <td>699.000000</td>\n",
       "      <td>699.000000</td>\n",
       "      <td>699.000000</td>\n",
       "      <td>6.990000e+02</td>\n",
       "    </tr>\n",
       "    <tr>\n",
       "      <th>mean</th>\n",
       "      <td>2364.854938</td>\n",
       "      <td>2364.854938</td>\n",
       "      <td>2412.035784</td>\n",
       "      <td>2311.447229</td>\n",
       "      <td>2361.463078</td>\n",
       "      <td>1.229910e+10</td>\n",
       "    </tr>\n",
       "    <tr>\n",
       "      <th>std</th>\n",
       "      <td>703.822843</td>\n",
       "      <td>703.822843</td>\n",
       "      <td>725.257874</td>\n",
       "      <td>678.227062</td>\n",
       "      <td>703.622940</td>\n",
       "      <td>8.436459e+09</td>\n",
       "    </tr>\n",
       "    <tr>\n",
       "      <th>min</th>\n",
       "      <td>1200.964844</td>\n",
       "      <td>1200.964844</td>\n",
       "      <td>1203.475342</td>\n",
       "      <td>1192.885376</td>\n",
       "      <td>1196.713623</td>\n",
       "      <td>2.081626e+09</td>\n",
       "    </tr>\n",
       "    <tr>\n",
       "      <th>25%</th>\n",
       "      <td>1800.300476</td>\n",
       "      <td>1800.300476</td>\n",
       "      <td>1827.601135</td>\n",
       "      <td>1769.574402</td>\n",
       "      <td>1797.976562</td>\n",
       "      <td>6.652484e+09</td>\n",
       "    </tr>\n",
       "    <tr>\n",
       "      <th>50%</th>\n",
       "      <td>2231.465332</td>\n",
       "      <td>2231.465332</td>\n",
       "      <td>2276.764648</td>\n",
       "      <td>2180.225342</td>\n",
       "      <td>2226.892578</td>\n",
       "      <td>1.015547e+10</td>\n",
       "    </tr>\n",
       "    <tr>\n",
       "      <th>75%</th>\n",
       "      <td>2972.332275</td>\n",
       "      <td>2972.332275</td>\n",
       "      <td>3034.360229</td>\n",
       "      <td>2888.783813</td>\n",
       "      <td>2969.967041</td>\n",
       "      <td>1.535598e+10</td>\n",
       "    </tr>\n",
       "    <tr>\n",
       "      <th>max</th>\n",
       "      <td>4066.445068</td>\n",
       "      <td>4066.445068</td>\n",
       "      <td>4092.284180</td>\n",
       "      <td>3936.627197</td>\n",
       "      <td>4066.690430</td>\n",
       "      <td>6.766813e+10</td>\n",
       "    </tr>\n",
       "  </tbody>\n",
       "</table>\n",
       "</div>"
      ],
      "text/plain": [
       "Price     Adj Close        Close         High          Low         Open  \\\n",
       "Ticker      ETH-USD      ETH-USD      ETH-USD      ETH-USD      ETH-USD   \n",
       "count    699.000000   699.000000   699.000000   699.000000   699.000000   \n",
       "mean    2364.854938  2364.854938  2412.035784  2311.447229  2361.463078   \n",
       "std      703.822843   703.822843   725.257874   678.227062   703.622940   \n",
       "min     1200.964844  1200.964844  1203.475342  1192.885376  1196.713623   \n",
       "25%     1800.300476  1800.300476  1827.601135  1769.574402  1797.976562   \n",
       "50%     2231.465332  2231.465332  2276.764648  2180.225342  2226.892578   \n",
       "75%     2972.332275  2972.332275  3034.360229  2888.783813  2969.967041   \n",
       "max     4066.445068  4066.445068  4092.284180  3936.627197  4066.690430   \n",
       "\n",
       "Price         Volume  \n",
       "Ticker       ETH-USD  \n",
       "count   6.990000e+02  \n",
       "mean    1.229910e+10  \n",
       "std     8.436459e+09  \n",
       "min     2.081626e+09  \n",
       "25%     6.652484e+09  \n",
       "50%     1.015547e+10  \n",
       "75%     1.535598e+10  \n",
       "max     6.766813e+10  "
      ]
     },
     "execution_count": 207,
     "metadata": {},
     "output_type": "execute_result"
    }
   ],
   "source": [
    "print(\"=============================================\")\n",
    "print(\"Data types of the columns in the data frame:\", df.dtypes) # Data types of the columns\n",
    "print(\"=============================================\")\n",
    "print(\"Shape of the data frame:\", df.shape) # Shape of the data frame\n",
    "print(\"=============================================\")\n",
    "print(\"Lenght of the data:\", len(df)) # Length of the data\n",
    "print(\"=============================================\")\n",
    "print(\"Checking for missing values in the data:\\n\", df.isnull().sum()) # Checking for missing values\n",
    "print(\"=============================================\")\n",
    "df.describe() # Summary statistics of the data"
   ]
  },
  {
   "cell_type": "markdown",
   "metadata": {},
   "source": [
    "##### Data PreProcessing"
   ]
  },
  {
   "cell_type": "code",
   "execution_count": null,
   "metadata": {},
   "outputs": [],
   "source": [
    "# Use only the 'Close' column for prediction\n",
    "data = df[['Close']]\n",
    "\n",
    "# Scale data between 0 and 1 for LSTM\n",
    "scaler = MinMaxScaler(feature_range=(0, 1))\n",
    "scaled_data = scaler.fit_transform(data.values)\n",
    "\n",
    "# Define prediction window size\n",
    "prediction_days = 30  # Use the last 30 days to predict the next day\n",
    "\n",
    "# Create training data\n",
    "x_train, y_train = [], []\n",
    "\n",
    "for i in range(prediction_days, len(scaled_data)):\n",
    "    x_train.append(scaled_data[i - prediction_days:i, 0])\n",
    "    y_train.append(scaled_data[i, 0])\n",
    "\n",
    "# Convert x_train and y_train to numpy arrays\n",
    "x_train, y_train = np.array(x_train), np.array(y_train)\n",
    "\n",
    "# Reshape data for LSTM input\n",
    "x_train = np.reshape(x_train, (x_train.shape[0], x_train.shape[1], 1))"
   ]
  },
  {
   "cell_type": "markdown",
   "metadata": {},
   "source": [
    "##### Creating the Neural Network with LSTM"
   ]
  },
  {
   "cell_type": "code",
   "execution_count": null,
   "metadata": {},
   "outputs": [],
   "source": [
    "# Initialize the LSTM model\n",
    "model = Sequential()\n",
    "\n",
    "# Add layers\n",
    "model.add(LSTM(units=100, return_sequences=True, input_shape=(x_train.shape[1], 1)))\n",
    "model.add(Dropout(0.3))  # Prevent overfitting\n",
    "model.add(LSTM(units=100, return_sequences=True))\n",
    "model.add(Dropout(0.3))\n",
    "model.add(LSTM(units=100))\n",
    "model.add(Dropout(0.3))\n",
    "model.add(Dense(units=1))  # Final output layer\n",
    "\n",
    "# Compile the model     \n",
    "model.compile(optimizer='adam', loss='mean_squared_error')\n",
    "\n",
    "# Train the model\n",
    "history = model.fit(x_train, y_train, epochs=50, batch_size=32, verbose=1)"
   ]
  },
  {
   "cell_type": "markdown",
   "metadata": {},
   "source": [
    "##### Model Data"
   ]
  },
  {
   "cell_type": "code",
   "execution_count": null,
   "metadata": {},
   "outputs": [],
   "source": [
    "model.summary() # Display the model summary"
   ]
  },
  {
   "cell_type": "markdown",
   "metadata": {},
   "source": [
    "##### Test Data"
   ]
  },
  {
   "cell_type": "code",
   "execution_count": null,
   "metadata": {},
   "outputs": [],
   "source": [
    "# Fetch the last 120 days of data for prediction\n",
    "future_days = 120  # Number of days to predict\n",
    "\n",
    "# Prepare test data\n",
    "test_data = df[-(prediction_days + future_days):]  # Include a small recent dataset\n",
    "test_scaled = scaler.transform(test_data['Close'].values.reshape(-1, 1))\n",
    "\n",
    "# Create x_test and y_test\n",
    "x_test = []\n",
    "y_test = test_scaled[prediction_days:]  # Actual prices for evaluation\n",
    "\n",
    "# Create x_test\n",
    "for i in range(prediction_days, len(test_scaled)):\n",
    "    x_test.append(test_scaled[i - prediction_days:i, 0])\n",
    "\n",
    "# Convert x_test to a numpy array\n",
    "x_test = np.array(x_test)\n",
    "x_test = np.reshape(x_test, (x_test.shape[0], x_test.shape[1], 1))"
   ]
  },
  {
   "cell_type": "markdown",
   "metadata": {},
   "source": [
    "##### Prediction Ethereum Price"
   ]
  },
  {
   "cell_type": "code",
   "execution_count": null,
   "metadata": {},
   "outputs": [],
   "source": [
    "# Predict Bitcoin prices\n",
    "predicted_scaled = model.predict(x_test)\n",
    "\n",
    "# Inverse scale predictions to get actual price\n",
    "predicted_prices = scaler.inverse_transform(predicted_scaled)\n",
    "\n",
    "# Inverse scale y_test for comparison\n",
    "actual_prices = scaler.inverse_transform(y_test)\n",
    "\n",
    "# Generate a date range for x-axis\n",
    "dates = df.index[-len(actual_prices):]\n",
    "\n",
    "# Plot actual vs predicted prices with dates\n",
    "plt.figure(figsize=(15, 7))\n",
    "plt.plot(dates, actual_prices, label=\"Actual Prices\", color=\"green\", linewidth=4)\n",
    "plt.plot(dates, predicted_prices, label=\"Predicted Prices\", color=\"red\", linestyle=\"--\", linewidth=3)\n",
    "plt.title(\"Ethereum Price Prediction (Daily Values)\")\n",
    "plt.xlabel(\"Date\")\n",
    "plt.ylabel(\"Price (USD)\")\n",
    "plt.legend()\n",
    "plt.grid(True)"
   ]
  },
  {
   "cell_type": "markdown",
   "metadata": {},
   "source": [
    "##### Evaulating the Model\n",
    "F1 score and accuracy are not suitable methods for regression models.For regression models, metrics like MSE, MAPE, and RMSE provide better insights."
   ]
  },
  {
   "cell_type": "code",
   "execution_count": 196,
   "metadata": {},
   "outputs": [
    {
     "name": "stdout",
     "output_type": "stream",
     "text": [
      "=============================================\n",
      "Accuracy: 54.62%\n",
      "F1-Score: 0.58\n",
      "Recall: 0.61\n",
      "Precision: 0.56\n",
      "=============================================\n",
      "              precision    recall  f1-score   support\n",
      "\n",
      "           0       0.53      0.47      0.50        57\n",
      "           1       0.56      0.61      0.58        62\n",
      "\n",
      "    accuracy                           0.55       119\n",
      "   macro avg       0.54      0.54      0.54       119\n",
      "weighted avg       0.54      0.55      0.54       119\n",
      "\n",
      "=============================================\n"
     ]
    }
   ],
   "source": [
    "# Convert prices to labels (1 if price goes up, 0 if price goes down)\n",
    "actual_labels = np.where(actual_prices[1:] > actual_prices[:-1], 1, 0)\n",
    "predicted_labels = np.where(predicted_prices[1:] > actual_prices[:-1], 1, 0)\n",
    "\n",
    "# Calculate accuracy and F1-score\n",
    "f1 = f1_score(actual_labels, predicted_labels)\n",
    "accuracy = accuracy_score(actual_labels, predicted_labels)\n",
    "recall_score = recall_score(actual_labels, predicted_labels)\n",
    "precision_score = precision_score(actual_labels, predicted_labels)\n",
    "\n",
    "# Print the classification report\n",
    "print(f\"=============================================\")\n",
    "print(f\"Accuracy: {accuracy * 100:.2f}%\")\n",
    "print(f\"F1-Score: {f1:.2f}\")\n",
    "print(f\"Recall: {recall_score:.2f}\")\n",
    "print(f\"Precision: {precision_score:.2f}\")\n",
    "# Detailed classification report\n",
    "print(f\"=============================================\")\n",
    "print(classification_report(actual_labels, predicted_labels))\n",
    "print(f\"=============================================\")"
   ]
  },
  {
   "cell_type": "code",
   "execution_count": 198,
   "metadata": {},
   "outputs": [
    {
     "name": "stdout",
     "output_type": "stream",
     "text": [
      "=============================================\n",
      "Mean Squared Error: 21808.15\n",
      "Root Mean Squared Error: 147.68\n",
      "=============================================\n",
      "Mean Absolute Error: 109.09 $ Gunluk Sapma Miktari\n",
      "=============================================\n",
      "Mean Absolute Percentage Error (MAPE): 4.07%\n",
      "! A MAPE below 10-20% is generally considered good for financial predictions.\n",
      "=============================================\n"
     ]
    }
   ],
   "source": [
    "# Calculate regression metrics\n",
    "mse = mean_squared_error(actual_prices, predicted_prices)\n",
    "mae = mean_absolute_error(actual_prices, predicted_prices)\n",
    "rmse = root_mean_squared_error(actual_prices, predicted_prices)\n",
    "mape = mean_absolute_percentage_error(actual_prices, predicted_prices) * 100\n",
    "\n",
    "# Print the error metrics\n",
    "print(f\"=============================================\")\n",
    "print(f\"Mean Squared Error: {mse:.2f}\") # Mean Squared Error\n",
    "print(f\"Root Mean Squared Error: {rmse:.2f}\") # Root Mean Squared Error\n",
    "print(f\"=============================================\")\n",
    "print(f\"Mean Absolute Error: {mae:.2f} $ Gunluk Sapma Miktari\") # Mean Absolute Error\n",
    "print(f\"=============================================\")\n",
    "print(f\"Mean Absolute Percentage Error (MAPE): {mape:.2f}%\") # Mean Absolute Percentage Error\n",
    "print(f\"! A MAPE below 10-20% is generally considered good for financial predictions.\")\n",
    "print(f\"=============================================\")"
   ]
  },
  {
   "cell_type": "markdown",
   "metadata": {},
   "source": [
    "##### Comparing the Train and Test Scores"
   ]
  },
  {
   "cell_type": "code",
   "execution_count": null,
   "metadata": {},
   "outputs": [],
   "source": [
    "# Train and test losses\n",
    "train_loss = history.history['loss'][-1]  # Final loss after training\n",
    "test_loss = model.evaluate(x_test, y_test) # Loss on test data\n",
    "\n",
    "# Print the final train and test losses\n",
    "print(f\"=============================================\")\n",
    "print(f\"Train Loss: {train_loss}\")\n",
    "print(f\"Test Loss: {test_loss}\")\n",
    "print(f\"=============================================\")"
   ]
  }
 ],
 "metadata": {
  "kernelspec": {
   "display_name": "Python 3",
   "language": "python",
   "name": "python3"
  },
  "language_info": {
   "codemirror_mode": {
    "name": "ipython",
    "version": 3
   },
   "file_extension": ".py",
   "mimetype": "text/x-python",
   "name": "python",
   "nbconvert_exporter": "python",
   "pygments_lexer": "ipython3",
   "version": "3.12.6"
  }
 },
 "nbformat": 4,
 "nbformat_minor": 2
}
