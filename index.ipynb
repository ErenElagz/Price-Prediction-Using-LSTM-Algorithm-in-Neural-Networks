{
 "cells": [
  {
   "cell_type": "markdown",
   "metadata": {},
   "source": [
    "#### Crypto Coin Price Prediction Using Long-Short-Term-Model Algorithm in Neural Networks \n",
    " Developers\n",
    "+ 214210050 Furkan Demircan\n",
    "+ 214210056 Eray Elagoz \n",
    "---------------------------------------------------------------------------"
   ]
  },
  {
   "cell_type": "markdown",
   "metadata": {},
   "source": [
    "##### Objective\n",
    "It aims to leverage machine learning & Deep Learning techniques to develop an accurate and reliable model for predicting and forecasting Bitcoin prices. By utilizing historical data and relevant features, the model provided insights into the potential future trends of Bitcoin, assisting investors, traders, and researchers in making informed decisions in the cryptocurrency market."
   ]
  },
  {
   "cell_type": "markdown",
   "metadata": {},
   "source": [
    "##### Libraries"
   ]
  },
  {
   "cell_type": "code",
   "execution_count": null,
   "metadata": {},
   "outputs": [],
   "source": [
    "# Data manipulation and analysis\n",
    "import numpy as np # linear algebra\n",
    "import pandas as pd # data processing\n",
    "import matplotlib.pyplot as plt # data visualization\n",
    "import yfinance as yf # for coin data\n",
    "\n",
    "# Main libraries\n",
    "import datetime as dt # for date and time operations\n",
    "\n",
    "# Machine learning\n",
    "from sklearn.preprocessing import MinMaxScaler # for normalization\n",
    "from sklearn.metrics import mean_squared_error, mean_absolute_error,root_mean_squared_error, recall_score, precision_score, confusion_matrix # for model evaluation\n",
    "from sklearn.metrics import f1_score, accuracy_score, classification_report\n",
    "\n",
    "# Deep learning\n",
    "import tensorflow as tf # For neural networks\n",
    "from tensorflow.keras.models import Sequential # For building the neural network\n",
    "from tensorflow.keras.layers import Dense, Dropout, LSTM # For building neural networks\n",
    "from tensorflow.keras.optimizers import Adam # For configuring the learning process\n",
    "from tensorflow.keras.callbacks import TensorBoard # For visualizing learning"
   ]
  },
  {
   "cell_type": "markdown",
   "metadata": {},
   "source": [
    "##### Fetching the Bitcoin Price Data"
   ]
  },
  {
   "cell_type": "code",
   "execution_count": null,
   "metadata": {},
   "outputs": [],
   "source": [
    "# Fetch Bitcoin data\n",
    "df = yf.download(\"ETH-USD\", start=\"2023-01-01\", end=\"2024-11-30\")\n",
    "\n",
    "# Display the first few rows of the data\n",
    "df.head()\n",
    "\n",
    "# Plot the closing price to visualize trends\n",
    "plt.figure(figsize=(12, 6))\n",
    "plt.plot(df['Close'], label=\"Closing Price\", color='green')\n",
    "plt.title(\"Ethereum Closing Price (2024)\")\n",
    "plt.xlabel(\"Date\")\n",
    "plt.ylabel(\"Price (USD)\")\n",
    "plt.legend()\n",
    "plt.show()"
   ]
  },
  {
   "cell_type": "markdown",
   "metadata": {},
   "source": [
    "##### Data Infos"
   ]
  },
  {
   "cell_type": "code",
   "execution_count": null,
   "metadata": {},
   "outputs": [],
   "source": [
    "print(\"=============================================\")\n",
    "print(\"Data types of the columns in the data frame:\", df.dtypes) # Data types of the columns\n",
    "print(\"=============================================\")\n",
    "print(\"Shape of the data frame:\", df.shape) # Shape of the data frame\n",
    "print(\"=============================================\")\n",
    "print(\"Lenght of the data:\", len(df)) # Length of the data\n",
    "print(\"=============================================\")\n",
    "df.describe() # Summary statistics of the data"
   ]
  },
  {
   "cell_type": "markdown",
   "metadata": {},
   "source": [
    "##### Data PreProcessing"
   ]
  },
  {
   "cell_type": "code",
   "execution_count": null,
   "metadata": {},
   "outputs": [],
   "source": [
    "# Use only the 'Close' column for prediction\n",
    "data = df[['Close']]\n",
    "\n",
    "# Scale data between 0 and 1 for LSTM\n",
    "scaler = MinMaxScaler(feature_range=(0, 1))\n",
    "scaled_data = scaler.fit_transform(data.values)\n",
    "\n",
    "# Define prediction window size\n",
    "prediction_days = 30  # Use the last 30 days to predict the next day\n",
    "\n",
    "# Create training data\n",
    "x_train, y_train = [], []\n",
    "\n",
    "for i in range(prediction_days, len(scaled_data)):\n",
    "    x_train.append(scaled_data[i - prediction_days:i, 0])\n",
    "    y_train.append(scaled_data[i, 0])\n",
    "\n",
    "# Convert x_train and y_train to numpy arrays\n",
    "x_train, y_train = np.array(x_train), np.array(y_train)\n",
    "\n",
    "# Reshape data for LSTM input\n",
    "x_train = np.reshape(x_train, (x_train.shape[0], x_train.shape[1], 1))"
   ]
  },
  {
   "cell_type": "markdown",
   "metadata": {},
   "source": [
    "##### Creating the Neural Network with LSTM"
   ]
  },
  {
   "cell_type": "code",
   "execution_count": null,
   "metadata": {},
   "outputs": [],
   "source": [
    "# Initialize the LSTM model\n",
    "model = Sequential()\n",
    "\n",
    "# Add layers\n",
    "model.add(LSTM(units=100, return_sequences=True, input_shape=(x_train.shape[1], 1)))\n",
    "model.add(Dropout(0.3))  # Prevent overfitting\n",
    "model.add(LSTM(units=100, return_sequences=True))\n",
    "model.add(Dropout(0.3))\n",
    "model.add(LSTM(units=100))\n",
    "model.add(Dropout(0.3))\n",
    "model.add(Dense(units=1))  # Final output layer\n",
    "\n",
    "# Compile the model     \n",
    "model.compile(optimizer='adam', loss='mean_squared_error')\n",
    "\n",
    "# Train the model\n",
    "history = model.fit(x_train, y_train, epochs=50, batch_size=32, verbose=1)"
   ]
  },
  {
   "cell_type": "markdown",
   "metadata": {},
   "source": [
    "##### Model Data"
   ]
  },
  {
   "cell_type": "code",
   "execution_count": null,
   "metadata": {},
   "outputs": [],
   "source": [
    "model.summary() # Display the model summary"
   ]
  },
  {
   "cell_type": "markdown",
   "metadata": {},
   "source": [
    "##### Test Data"
   ]
  },
  {
   "cell_type": "code",
   "execution_count": null,
   "metadata": {},
   "outputs": [],
   "source": [
    "# Fetch the last 120 days of data for prediction\n",
    "future_days = 120  # Number of days to predict\n",
    "\n",
    "# Prepare test data\n",
    "test_data = df[-(prediction_days + future_days):]  # Include a small recent dataset\n",
    "test_scaled = scaler.transform(test_data['Close'].values.reshape(-1, 1))\n",
    "\n",
    "# Create x_test and y_test\n",
    "x_test = []\n",
    "y_test = test_scaled[prediction_days:]  # Actual prices for evaluation\n",
    "\n",
    "# Create x_test\n",
    "for i in range(prediction_days, len(test_scaled)):\n",
    "    x_test.append(test_scaled[i - prediction_days:i, 0])\n",
    "\n",
    "# Convert x_test to a numpy array\n",
    "x_test = np.array(x_test)\n",
    "x_test = np.reshape(x_test, (x_test.shape[0], x_test.shape[1], 1))"
   ]
  },
  {
   "cell_type": "markdown",
   "metadata": {},
   "source": [
    "##### Prediction Ethereum Price"
   ]
  },
  {
   "cell_type": "code",
   "execution_count": null,
   "metadata": {},
   "outputs": [],
   "source": [
    "# Predict Bitcoin prices\n",
    "predicted_scaled = model.predict(x_test)\n",
    "\n",
    "# Inverse scale predictions to get actual price\n",
    "predicted_prices = scaler.inverse_transform(predicted_scaled)\n",
    "\n",
    "# Inverse scale y_test for comparison\n",
    "actual_prices = scaler.inverse_transform(y_test)\n",
    "\n",
    "# Generate a date range for x-axis\n",
    "dates = df.index[-len(actual_prices):]\n",
    "\n",
    "# Plot actual vs predicted prices with dates\n",
    "plt.figure(figsize=(15, 7))\n",
    "plt.plot(dates, actual_prices, label=\"Actual Prices\", color=\"green\", linewidth=4)\n",
    "plt.plot(dates, predicted_prices, label=\"Predicted Prices\", color=\"red\", linestyle=\"--\", linewidth=3)\n",
    "plt.title(\"Ethereum Price Prediction (Daily Values)\")\n",
    "plt.xlabel(\"Date\")\n",
    "plt.ylabel(\"Price (USD)\")\n",
    "plt.legend()\n",
    "plt.grid(True)"
   ]
  },
  {
   "cell_type": "markdown",
   "metadata": {},
   "source": [
    "##### Evaulating the Model\n",
    "F1 score and accuracy are not suitable methods for regression models.For regression models, metrics like MSE, MAPE, and RMSE provide better insights."
   ]
  },
  {
   "cell_type": "code",
   "execution_count": null,
   "metadata": {},
   "outputs": [],
   "source": [
    "# Convert prices to labels (1 if price goes up, 0 if price goes down)\n",
    "actual_labels = np.where(actual_prices[1:] > actual_prices[:-1], 1, 0)\n",
    "predicted_labels = np.where(predicted_prices[1:] > actual_prices[:-1], 1, 0)\n",
    "\n",
    "# Calculate accuracy and F1-score\n",
    "f1 = f1_score(actual_labels, predicted_labels)\n",
    "accuracy = accuracy_score(actual_labels, predicted_labels)\n",
    "\n",
    "# Print the classification report\n",
    "print(f\"=============================================\")\n",
    "print(f\"Accuracy: {accuracy * 100:.2f}%\")\n",
    "print(f\"F1-Score: {f1:.2f}\")\n",
    "# Detailed classification report\n",
    "print(f\"=============================================\")\n",
    "print(classification_report(actual_labels, predicted_labels))\n",
    "print(f\"=============================================\")"
   ]
  },
  {
   "cell_type": "code",
   "execution_count": null,
   "metadata": {},
   "outputs": [],
   "source": [
    "# Calculate regression metrics\n",
    "mse = mean_squared_error(actual_prices, predicted_prices)\n",
    "mae = mean_absolute_error(actual_prices, predicted_prices)\n",
    "mape = np.mean(np.abs((actual_prices - predicted_prices) / actual_prices)) * 100\n",
    "rmse = np.sqrt(mse)\n",
    "\n",
    "# Print the error metrics\n",
    "print(f\"=============================================\")\n",
    "print(f\"Mean Squared Error: {mse:.2f}\") # Mean Squared Error\n",
    "print(f\"Root Mean Squared Error: {rmse:.2f}\") # Root Mean Squared Error\n",
    "print(f\"=============================================\")\n",
    "print(f\"Mean Absolute Error: {mae:.2f}$ Gunluk Sapma Miktari\") # Mean Absolute Error\n",
    "print(f\"=============================================\")\n",
    "print(f\"Mean Absolute Percentage Error (MAPE): {mape:.2f}%\") # Mean Absolute Percentage Error\n",
    "print(f\"! A MAPE below 10-20% is generally considered good for financial predictions.\")\n",
    "print(f\"=============================================\")"
   ]
  },
  {
   "cell_type": "markdown",
   "metadata": {},
   "source": [
    "##### Comparing the Train and Test Scores"
   ]
  },
  {
   "cell_type": "code",
   "execution_count": null,
   "metadata": {},
   "outputs": [],
   "source": [
    "# Train and test losses\n",
    "train_loss = history.history['loss'][-1]  # Final loss after training\n",
    "test_loss = model.evaluate(x_test, y_test) # Loss on test data\n",
    "\n",
    "# Print the final train and test losses\n",
    "print(f\"=============================================\")\n",
    "print(f\"Train Loss: {train_loss}\")\n",
    "print(f\"Test Loss: {test_loss}\")\n",
    "print(f\"=============================================\")"
   ]
  }
 ],
 "metadata": {
  "kernelspec": {
   "display_name": "Python 3",
   "language": "python",
   "name": "python3"
  },
  "language_info": {
   "codemirror_mode": {
    "name": "ipython",
    "version": 3
   },
   "file_extension": ".py",
   "mimetype": "text/x-python",
   "name": "python",
   "nbconvert_exporter": "python",
   "pygments_lexer": "ipython3",
   "version": "3.12.6"
  }
 },
 "nbformat": 4,
 "nbformat_minor": 2
}
